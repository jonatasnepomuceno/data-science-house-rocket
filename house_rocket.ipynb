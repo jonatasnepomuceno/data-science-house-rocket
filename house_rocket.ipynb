{
  "nbformat": 4,
  "nbformat_minor": 0,
  "metadata": {
    "colab": {
      "name": "house_rocket.ipynb",
      "provenance": [],
      "authorship_tag": "ABX9TyPXidlzPA8W0YgQDJMnKXv2",
      "include_colab_link": true
    },
    "kernelspec": {
      "name": "python3",
      "display_name": "Python 3"
    },
    "language_info": {
      "name": "python"
    }
  },
  "cells": [
    {
      "cell_type": "markdown",
      "metadata": {
        "id": "view-in-github",
        "colab_type": "text"
      },
      "source": [
        "<a href=\"https://colab.research.google.com/github/jonatasnepomuceno/data-science-house-rocket/blob/main/house_rocket.ipynb\" target=\"_parent\"><img src=\"https://colab.research.google.com/assets/colab-badge.svg\" alt=\"Open In Colab\"/></a>"
      ]
    },
    {
      "cell_type": "code",
      "metadata": {
        "id": "3XJXkkhyqC2b"
      },
      "source": [
        "##IMPORTS\n",
        "\n",
        "import pandas as pd \n",
        "import numpy as np\n"
      ],
      "execution_count": null,
      "outputs": []
    },
    {
      "cell_type": "code",
      "metadata": {
        "colab": {
          "base_uri": "https://localhost:8080/",
          "height": 222
        },
        "id": "5Fgx7jaKqPxA",
        "outputId": "24c84af0-e1d1-45e2-aade-58449918f227"
      },
      "source": [
        "##CARREGANDO DADOS\n",
        "data = pd.read_csv('kc_house_data.csv')\n",
        "data.head()"
      ],
      "execution_count": null,
      "outputs": [
        {
          "output_type": "execute_result",
          "data": {
            "text/html": [
              "<div>\n",
              "<style scoped>\n",
              "    .dataframe tbody tr th:only-of-type {\n",
              "        vertical-align: middle;\n",
              "    }\n",
              "\n",
              "    .dataframe tbody tr th {\n",
              "        vertical-align: top;\n",
              "    }\n",
              "\n",
              "    .dataframe thead th {\n",
              "        text-align: right;\n",
              "    }\n",
              "</style>\n",
              "<table border=\"1\" class=\"dataframe\">\n",
              "  <thead>\n",
              "    <tr style=\"text-align: right;\">\n",
              "      <th></th>\n",
              "      <th>id</th>\n",
              "      <th>date</th>\n",
              "      <th>price</th>\n",
              "      <th>bedrooms</th>\n",
              "      <th>bathrooms</th>\n",
              "      <th>sqft_living</th>\n",
              "      <th>sqft_lot</th>\n",
              "      <th>floors</th>\n",
              "      <th>waterfront</th>\n",
              "      <th>view</th>\n",
              "      <th>condition</th>\n",
              "      <th>grade</th>\n",
              "      <th>sqft_above</th>\n",
              "      <th>sqft_basement</th>\n",
              "      <th>yr_built</th>\n",
              "      <th>yr_renovated</th>\n",
              "      <th>zipcode</th>\n",
              "      <th>lat</th>\n",
              "      <th>long</th>\n",
              "      <th>sqft_living15</th>\n",
              "      <th>sqft_lot15</th>\n",
              "    </tr>\n",
              "  </thead>\n",
              "  <tbody>\n",
              "    <tr>\n",
              "      <th>0</th>\n",
              "      <td>7129300520</td>\n",
              "      <td>20141013T000000</td>\n",
              "      <td>221900.0</td>\n",
              "      <td>3</td>\n",
              "      <td>1.00</td>\n",
              "      <td>1180</td>\n",
              "      <td>5650</td>\n",
              "      <td>1.0</td>\n",
              "      <td>0</td>\n",
              "      <td>0</td>\n",
              "      <td>3</td>\n",
              "      <td>7</td>\n",
              "      <td>1180</td>\n",
              "      <td>0</td>\n",
              "      <td>1955</td>\n",
              "      <td>0</td>\n",
              "      <td>98178</td>\n",
              "      <td>47.5112</td>\n",
              "      <td>-122.257</td>\n",
              "      <td>1340</td>\n",
              "      <td>5650</td>\n",
              "    </tr>\n",
              "    <tr>\n",
              "      <th>1</th>\n",
              "      <td>6414100192</td>\n",
              "      <td>20141209T000000</td>\n",
              "      <td>538000.0</td>\n",
              "      <td>3</td>\n",
              "      <td>2.25</td>\n",
              "      <td>2570</td>\n",
              "      <td>7242</td>\n",
              "      <td>2.0</td>\n",
              "      <td>0</td>\n",
              "      <td>0</td>\n",
              "      <td>3</td>\n",
              "      <td>7</td>\n",
              "      <td>2170</td>\n",
              "      <td>400</td>\n",
              "      <td>1951</td>\n",
              "      <td>1991</td>\n",
              "      <td>98125</td>\n",
              "      <td>47.7210</td>\n",
              "      <td>-122.319</td>\n",
              "      <td>1690</td>\n",
              "      <td>7639</td>\n",
              "    </tr>\n",
              "    <tr>\n",
              "      <th>2</th>\n",
              "      <td>5631500400</td>\n",
              "      <td>20150225T000000</td>\n",
              "      <td>180000.0</td>\n",
              "      <td>2</td>\n",
              "      <td>1.00</td>\n",
              "      <td>770</td>\n",
              "      <td>10000</td>\n",
              "      <td>1.0</td>\n",
              "      <td>0</td>\n",
              "      <td>0</td>\n",
              "      <td>3</td>\n",
              "      <td>6</td>\n",
              "      <td>770</td>\n",
              "      <td>0</td>\n",
              "      <td>1933</td>\n",
              "      <td>0</td>\n",
              "      <td>98028</td>\n",
              "      <td>47.7379</td>\n",
              "      <td>-122.233</td>\n",
              "      <td>2720</td>\n",
              "      <td>8062</td>\n",
              "    </tr>\n",
              "    <tr>\n",
              "      <th>3</th>\n",
              "      <td>2487200875</td>\n",
              "      <td>20141209T000000</td>\n",
              "      <td>604000.0</td>\n",
              "      <td>4</td>\n",
              "      <td>3.00</td>\n",
              "      <td>1960</td>\n",
              "      <td>5000</td>\n",
              "      <td>1.0</td>\n",
              "      <td>0</td>\n",
              "      <td>0</td>\n",
              "      <td>5</td>\n",
              "      <td>7</td>\n",
              "      <td>1050</td>\n",
              "      <td>910</td>\n",
              "      <td>1965</td>\n",
              "      <td>0</td>\n",
              "      <td>98136</td>\n",
              "      <td>47.5208</td>\n",
              "      <td>-122.393</td>\n",
              "      <td>1360</td>\n",
              "      <td>5000</td>\n",
              "    </tr>\n",
              "    <tr>\n",
              "      <th>4</th>\n",
              "      <td>1954400510</td>\n",
              "      <td>20150218T000000</td>\n",
              "      <td>510000.0</td>\n",
              "      <td>3</td>\n",
              "      <td>2.00</td>\n",
              "      <td>1680</td>\n",
              "      <td>8080</td>\n",
              "      <td>1.0</td>\n",
              "      <td>0</td>\n",
              "      <td>0</td>\n",
              "      <td>3</td>\n",
              "      <td>8</td>\n",
              "      <td>1680</td>\n",
              "      <td>0</td>\n",
              "      <td>1987</td>\n",
              "      <td>0</td>\n",
              "      <td>98074</td>\n",
              "      <td>47.6168</td>\n",
              "      <td>-122.045</td>\n",
              "      <td>1800</td>\n",
              "      <td>7503</td>\n",
              "    </tr>\n",
              "  </tbody>\n",
              "</table>\n",
              "</div>"
            ],
            "text/plain": [
              "           id             date     price  ...     long  sqft_living15  sqft_lot15\n",
              "0  7129300520  20141013T000000  221900.0  ... -122.257           1340        5650\n",
              "1  6414100192  20141209T000000  538000.0  ... -122.319           1690        7639\n",
              "2  5631500400  20150225T000000  180000.0  ... -122.233           2720        8062\n",
              "3  2487200875  20141209T000000  604000.0  ... -122.393           1360        5000\n",
              "4  1954400510  20150218T000000  510000.0  ... -122.045           1800        7503\n",
              "\n",
              "[5 rows x 21 columns]"
            ]
          },
          "metadata": {},
          "execution_count": 5
        }
      ]
    },
    {
      "cell_type": "code",
      "metadata": {
        "colab": {
          "base_uri": "https://localhost:8080/"
        },
        "id": "wKRLTXGIqpOl",
        "outputId": "adc7ac1d-b0d2-4a4a-ce8a-5507377bc507"
      },
      "source": [
        "## 1) Quantas casas estão disponíveis para compra?\n",
        "\n",
        "### A coluna id é um identificador de cada casa. \n",
        "### Contar quantas linhas existem no id.\n",
        "\n",
        "data['id'].unique() #retorna os valores unicos da coluna dentro de um array\n",
        "houses = len( data['id'].unique() ) #len faz a contagem do array acima\n",
        "print ('Número de casas disponíveis para compra é de: {}'.format(houses))"
      ],
      "execution_count": null,
      "outputs": [
        {
          "output_type": "stream",
          "name": "stdout",
          "text": [
            "Número de casas disponíveis para compra é de: 21436\n"
          ]
        }
      ]
    },
    {
      "cell_type": "code",
      "metadata": {
        "colab": {
          "base_uri": "https://localhost:8080/"
        },
        "id": "vUMR41RatQyn",
        "outputId": "0566627b-e68b-48d2-ea14-bcbf2b51433b"
      },
      "source": [
        "## 2) Quantos atributos as casas possuem?\n",
        "\n",
        "## Atributos são as colunas do arquivo, exceto id e date\n",
        "## Contar quantas colunas possue, exceto id e date\n",
        "data.columns #retorna as colunas da tabela\n",
        "natributos = len(data.drop(['id', 'date'], axis=1).columns)\n",
        "print ('Número de atributos das casas é de: {}'.format(natributos))"
      ],
      "execution_count": null,
      "outputs": [
        {
          "output_type": "stream",
          "name": "stdout",
          "text": [
            "Número de atributos das casas é de: 19\n"
          ]
        }
      ]
    },
    {
      "cell_type": "code",
      "metadata": {
        "colab": {
          "base_uri": "https://localhost:8080/"
        },
        "id": "YGGfg0NKuwtT",
        "outputId": "ff57b6e8-5b67-410b-bdf6-ffae3892be5e"
      },
      "source": [
        "## 3) Quais são os atributos das casas? \n",
        "\n",
        "## Listar os atributos das casas\n",
        "\n",
        "data.drop(['id', 'date'], axis=1).columns.tolist()"
      ],
      "execution_count": null,
      "outputs": [
        {
          "output_type": "execute_result",
          "data": {
            "text/plain": [
              "['price',\n",
              " 'bedrooms',\n",
              " 'bathrooms',\n",
              " 'sqft_living',\n",
              " 'sqft_lot',\n",
              " 'floors',\n",
              " 'waterfront',\n",
              " 'view',\n",
              " 'condition',\n",
              " 'grade',\n",
              " 'sqft_above',\n",
              " 'sqft_basement',\n",
              " 'yr_built',\n",
              " 'yr_renovated',\n",
              " 'zipcode',\n",
              " 'lat',\n",
              " 'long',\n",
              " 'sqft_living15',\n",
              " 'sqft_lot15']"
            ]
          },
          "metadata": {},
          "execution_count": 24
        }
      ]
    },
    {
      "cell_type": "code",
      "metadata": {
        "colab": {
          "base_uri": "https://localhost:8080/"
        },
        "id": "pou9JKI8vuOV",
        "outputId": "7f9321ca-f71a-4d7d-d17f-9c498c2ea77c"
      },
      "source": [
        "## 4) Qual a casa mais cara (casa com maior valor de venda)?\n",
        "\n",
        "#sort_values('referencia') coloca a lista em ordem crescente\n",
        "#('referencia', ascending=False) ordena do maior para o menor\n",
        "data[['id', 'price']].sort_values('price', ascending=False).head() #sort_values() coloca a lista em ordem\n",
        "#dentro do data, peguei a coluna id e price, coloquei em ordem pela referencia do preço, do maior para o menor\n",
        "\n",
        "##para pegar o id da casa mais cara, preciso resetar o index, pois o index 0 não corresponde a minha casa mais cara\n",
        "id_casa_maior_valor = data[['id', 'price']].sort_values('price', ascending=False).reset_index(drop=True).loc[0, 'id']\n",
        "#reset_index para resetar o index\n",
        "#drop=True para remover coluna do index antigo\n",
        "#loc[0, 'id'] = para pegar a linha 0 da coluna id \n",
        "print ('A casa mais cara é a: {}'.format(id_casa_maior_valor))"
      ],
      "execution_count": null,
      "outputs": [
        {
          "output_type": "stream",
          "name": "stdout",
          "text": [
            "A casa mais cara é a: 6762700020\n"
          ]
        }
      ]
    },
    {
      "cell_type": "code",
      "metadata": {
        "colab": {
          "base_uri": "https://localhost:8080/"
        },
        "id": "BZFEcJ2GwT9u",
        "outputId": "268f5ed5-5c9d-468e-c022-79e1b96b851a"
      },
      "source": [
        "## 5) Qual a casa com o maior número de quartos?\n",
        "\n",
        "## Segue o mesmo princípio da questão anterior.\n",
        "\n",
        "id_casa_mais_quartos = data[['id', 'bedrooms']].sort_values('bedrooms', ascending=False).reset_index(drop=True).loc[0, 'id']\n",
        "print ('A casa com mais quartos é a: {}'.format(id_casa_mais_quartos))"
      ],
      "execution_count": null,
      "outputs": [
        {
          "output_type": "stream",
          "name": "stdout",
          "text": [
            "A casa com mais quartos é a: 2402100895\n"
          ]
        }
      ]
    },
    {
      "cell_type": "code",
      "metadata": {
        "colab": {
          "base_uri": "https://localhost:8080/"
        },
        "id": "qBHV8s6E0Bqj",
        "outputId": "74ca5345-f74a-4543-fc50-c907ffdfd939"
      },
      "source": [
        "## 6) Qual a soma total de quartos do conjunto de dados?\n",
        "\n",
        "soma_nquartos = data['bedrooms'].sum()\n",
        "print ('O número total de quartos é de: {}'.format(soma_nquartos))"
      ],
      "execution_count": null,
      "outputs": [
        {
          "output_type": "stream",
          "name": "stdout",
          "text": [
            "O número total de quartos é de: 72854\n"
          ]
        }
      ]
    },
    {
      "cell_type": "code",
      "metadata": {
        "colab": {
          "base_uri": "https://localhost:8080/"
        },
        "id": "JEl59r3R1LXu",
        "outputId": "f8026acf-86a3-4d92-93cd-9c912bd283d1"
      },
      "source": [
        "## 7) Quantas casas possuem 2 banheiros? \n",
        "\n",
        "## Filtrar linhas com valor igual a 2 da coluna bathroom\n",
        "## Selecionar as colunas id e bathroom\n",
        "## Contar quantidade de linhas\n",
        "\n",
        "casas_2banheiros = len(data.loc[data['bathrooms'] == 2, ['id','bathrooms']])\n",
        "print ('O número de casas com 2 banheiros é de: {}'.format(casas_2banheiros))"
      ],
      "execution_count": null,
      "outputs": [
        {
          "output_type": "stream",
          "name": "stdout",
          "text": [
            "O número de casas com 2 banheiros é de: 1930\n"
          ]
        }
      ]
    },
    {
      "cell_type": "code",
      "metadata": {
        "colab": {
          "base_uri": "https://localhost:8080/"
        },
        "id": "V2awmRvq1zU2",
        "outputId": "a27bdbc4-7352-4895-cacf-452de5ae5517"
      },
      "source": [
        "## 8) Qual o preço médio de todas as casas no conjunto de dados?\n",
        "\n",
        "#mean() retorna a media\n",
        "price_mean = np.round( data['price'].mean(), 2 )\n",
        "print ('O preço médio de todas as casas é de: {}'.format(price_mean))"
      ],
      "execution_count": null,
      "outputs": [
        {
          "output_type": "stream",
          "name": "stdout",
          "text": [
            "O preço médio de todas as casas é de: 540088.14\n"
          ]
        }
      ]
    },
    {
      "cell_type": "code",
      "metadata": {
        "colab": {
          "base_uri": "https://localhost:8080/"
        },
        "id": "snEGD-774izE",
        "outputId": "04830ddd-68e5-4469-c667-8b4be0f0846b"
      },
      "source": [
        "## 9) Qual o prço médio de casas com 2 banheiros?\n",
        "data.loc[data['bathrooms'] == 2, 'price'] ##peguei os banheiros = 2, loc da coluna price, agora é só fazer a média\n",
        "price_mean_2bath = np.round( data.loc[data['bathrooms'] == 2, 'price'].mean(), 2)\n",
        "print ('O preço médio das casas que possuem 2 banheiros é de: {}'.format(price_mean_2bath))"
      ],
      "execution_count": null,
      "outputs": [
        {
          "output_type": "stream",
          "name": "stdout",
          "text": [
            "O preço médio das casas que possuem 2 banheiros é de: 457889.72\n"
          ]
        }
      ]
    },
    {
      "cell_type": "code",
      "metadata": {
        "colab": {
          "base_uri": "https://localhost:8080/"
        },
        "id": "nMTFQf1b5riz",
        "outputId": "f1b67e1a-48ec-4d24-c916-58dd93ced1a0"
      },
      "source": [
        "## 10) Qual o preço mínimo entre as casas com 3 quartos? \n",
        "\n",
        "price_min_3bed = data.loc[data['bedrooms'] == 3, 'price'].min()\n",
        "print ('O preço mínimo entre casas com 3 quartos é de: {}'.format(price_min_3bed))"
      ],
      "execution_count": null,
      "outputs": [
        {
          "output_type": "stream",
          "name": "stdout",
          "text": [
            "O preço mínimo entre casas com 3 quartos é de: 82000.0\n"
          ]
        }
      ]
    },
    {
      "cell_type": "code",
      "metadata": {
        "colab": {
          "base_uri": "https://localhost:8080/"
        },
        "id": "GGFJhkeq64h0",
        "outputId": "88459169-1f47-4792-deea-c9a50fcc53f2"
      },
      "source": [
        "## 11) Quantas casas possuem mais de 300 metros quadrados na sala de estar? \n",
        "data['m2'] = data['sqft_living'] * 0.093 #Conversão para metros quadradodos \n",
        "len( data.loc[data['m2']> 300, 'id'])"
      ],
      "execution_count": null,
      "outputs": [
        {
          "output_type": "execute_result",
          "data": {
            "text/plain": [
              "2258"
            ]
          },
          "metadata": {},
          "execution_count": 65
        }
      ]
    },
    {
      "cell_type": "code",
      "metadata": {
        "colab": {
          "base_uri": "https://localhost:8080/"
        },
        "id": "xxjiaU_P84Hb",
        "outputId": "73243015-2c3d-4984-87a5-053aabe124b7"
      },
      "source": [
        "## 12) Quantas casas tem mais de 2 andares? \n",
        "        #data['floors'] > 2              #pego a minha condição, então andares maior que 2\n",
        "data.loc[data['floors'] > 2, 'id']       #seleciono a coluna que eu quero\n",
        "len(data.loc[data['floors'] > 2, 'id'])  #conto número de linhas"
      ],
      "execution_count": null,
      "outputs": [
        {
          "output_type": "execute_result",
          "data": {
            "text/plain": [
              "782"
            ]
          },
          "metadata": {},
          "execution_count": 67
        }
      ]
    },
    {
      "cell_type": "code",
      "metadata": {
        "colab": {
          "base_uri": "https://localhost:8080/"
        },
        "id": "gA5OPog695x6",
        "outputId": "09e0e84f-5183-4910-a8a4-8885c1056313"
      },
      "source": [
        "## 13) Quantas casa tem vista para o mar? \n",
        "\n",
        "len(data.loc[data['waterfront'] == 1, 'id'])"
      ],
      "execution_count": null,
      "outputs": [
        {
          "output_type": "execute_result",
          "data": {
            "text/plain": [
              "163"
            ]
          },
          "metadata": {},
          "execution_count": 68
        }
      ]
    },
    {
      "cell_type": "code",
      "metadata": {
        "colab": {
          "base_uri": "https://localhost:8080/"
        },
        "id": "oBgxXetD-bcw",
        "outputId": "ff40f573-3db5-4e59-f804-14d90e8574e7"
      },
      "source": [
        "## 14) Das casa com vista para o mar, quantas tem 3 quartos? \n",
        "len(data.loc[(data['waterfront'] == 1) & (data['bedrooms'] == 3), 'id'])\n"
      ],
      "execution_count": null,
      "outputs": [
        {
          "output_type": "execute_result",
          "data": {
            "text/plain": [
              "64"
            ]
          },
          "metadata": {},
          "execution_count": 69
        }
      ]
    },
    {
      "cell_type": "code",
      "metadata": {
        "colab": {
          "base_uri": "https://localhost:8080/"
        },
        "id": "ZfIHnIco-_bB",
        "outputId": "a5df1ff8-0646-4ff2-8efe-22226901e7e7"
      },
      "source": [
        "## 15) Das casa com mais de 300 metros quadrados de sala de estar, quantas tem mais de 2 banheiros?\n",
        "\n",
        "len(data.loc[(data['m2'] > 300) & (data['bathrooms'] > 2), 'id'])"
      ],
      "execution_count": null,
      "outputs": [
        {
          "output_type": "execute_result",
          "data": {
            "text/plain": [
              "2201"
            ]
          },
          "metadata": {},
          "execution_count": 71
        }
      ]
    },
    {
      "cell_type": "code",
      "metadata": {
        "id": "69T5yiht_q0w"
      },
      "source": [
        ""
      ],
      "execution_count": null,
      "outputs": []
    }
  ]
}